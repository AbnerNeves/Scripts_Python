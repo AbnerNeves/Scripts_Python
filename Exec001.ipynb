{
 "cells": [
  {
   "cell_type": "code",
   "execution_count": 1,
   "metadata": {},
   "outputs": [],
   "source": [
    "import matplotlib.pyplot as plt\n",
    "import pandas as pd\n",
    "import os"
   ]
  },
  {
   "cell_type": "code",
   "execution_count": 7,
   "metadata": {},
   "outputs": [
    {
     "data": {
      "text/plain": [
       "'C:\\\\Users\\\\abner\\\\Documents\\\\Python Scripts'"
      ]
     },
     "execution_count": 7,
     "metadata": {},
     "output_type": "execute_result"
    }
   ],
   "source": [
    "direc = os.getcwd()\n",
    "direc"
   ]
  },
  {
   "cell_type": "code",
   "execution_count": 8,
   "metadata": {},
   "outputs": [
    {
     "data": {
      "text/plain": [
       "['.idea',\n",
       " '.ipynb_checkpoints',\n",
       " '001.py',\n",
       " 'arq1.srt',\n",
       " 'arq2.srt',\n",
       " 'arq3.srt',\n",
       " 'Exec001.ipynb',\n",
       " 'text.txt']"
      ]
     },
     "execution_count": 8,
     "metadata": {},
     "output_type": "execute_result"
    }
   ],
   "source": [
    "arqlist = os.listdir()\n",
    "arqlist"
   ]
  },
  {
   "cell_type": "code",
   "execution_count": 13,
   "metadata": {},
   "outputs": [
    {
     "name": "stdout",
     "output_type": "stream",
     "text": [
      "<_io.TextIOWrapper name='001.py' mode='r' encoding='cp1252'>\n",
      "<_io.TextIOWrapper name='arq1.srt' mode='r' encoding='cp1252'>\n",
      "<_io.TextIOWrapper name='arq2.srt' mode='r' encoding='cp1252'>\n",
      "<_io.TextIOWrapper name='arq3.srt' mode='r' encoding='cp1252'>\n",
      "<_io.TextIOWrapper name='Exec001.ipynb' mode='r' encoding='cp1252'>\n",
      "<_io.TextIOWrapper name='text.txt' mode='r' encoding='cp1252'>\n"
     ]
    }
   ],
   "source": [
    "for fi in arqlist:\n",
    "    if os.path.isfile(fi):\n",
    "        with open(fi) as arquivo:\n",
    "            arquivo.readline(5)\n",
    "            print(arquivo)\n"
   ]
  },
  {
   "cell_type": "code",
   "execution_count": null,
   "metadata": {},
   "outputs": [],
   "source": []
  }
 ],
 "metadata": {
  "kernelspec": {
   "display_name": "Python 3",
   "language": "python",
   "name": "python3"
  },
  "language_info": {
   "codemirror_mode": {
    "name": "ipython",
    "version": 3
   },
   "file_extension": ".py",
   "mimetype": "text/x-python",
   "name": "python",
   "nbconvert_exporter": "python",
   "pygments_lexer": "ipython3",
   "version": "3.8.3"
  }
 },
 "nbformat": 4,
 "nbformat_minor": 4
}
